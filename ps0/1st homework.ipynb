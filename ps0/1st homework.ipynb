{
 "cells": [
  {
   "cell_type": "markdown",
   "metadata": {},
   "source": [
    "<h1><center>Problem Set 0 : Images as Functions (really arrays or matrices of numbers)</center></h1>\n",
    "<h2><center> Due to January 20 </center></h2>"
   ]
  },
  {
   "cell_type": "markdown",
   "metadata": {},
   "source": [
    "### PS0-1-code :"
   ]
  },
  {
   "cell_type": "code",
   "execution_count": 22,
   "metadata": {},
   "outputs": [],
   "source": [
    "from PIL import Image\n",
    "import numpy\n",
    "import copy\n",
    "img1 = Image.open('ps0-1-a-1.tiff')\n",
    "img2 = Image.open('ps0-1-a-2.tiff')\n",
    "\n",
    "if (img1.size[0] <= 512 & img1.size[1] <= 512):\n",
    "    img1.show()\n",
    "else:\n",
    "    print('ps0-1-a-1.tiff is too large')\n",
    "    \n",
    "if (img2.size[0] <= 512 & img2.size[1] <= 512):\n",
    "    img2.show()\n",
    "else:\n",
    "    print('ps0-1-a-2.tiff is too large')\n"
   ]
  },
  {
   "cell_type": "markdown",
   "metadata": {},
   "source": [
    "### PS0-2-a-code :"
   ]
  },
  {
   "cell_type": "code",
   "execution_count": 23,
   "metadata": {},
   "outputs": [],
   "source": [
    "# convert PIL images to arrays\n",
    "im_arr1 = numpy.array(img1)\n",
    "im_arr2 = numpy.array(img2)\n",
    "\n",
    "def invertRedBlue(arr):\n",
    "    l_r = copy.deepcopy(arr[:,:,0])\n",
    "    new_arr = copy.deepcopy(arr)\n",
    "    new_arr[:,:,0] = arr[:,:,2]\n",
    "    new_arr[:,:,2] = l_r\n",
    "    return new_arr\n",
    "\n",
    "# convert array to image and save them\n",
    "img1_br_inv = Image.fromarray(invertRedBlue(im_arr1))\n",
    "img1_br_inv.show()\n",
    "img1_br_inv.save('ps0-2-a-1.tiff')\n",
    "\n",
    "img2_br_inv = Image.fromarray(invertRedBlue(im_arr2))\n",
    "img2_br_inv.show()\n",
    "img2_br_inv.save('ps0-2-a-2.tiff')"
   ]
  },
  {
   "cell_type": "markdown",
   "metadata": {},
   "source": [
    "### PS0-2-b-code :"
   ]
  },
  {
   "cell_type": "code",
   "execution_count": 24,
   "metadata": {},
   "outputs": [],
   "source": [
    "def monImgG(arr):\n",
    "    # create an empty image\n",
    "    mon_img_arr = numpy.zeros([arr.shape[0],arr.shape[1]],dtype=numpy.uint8)\n",
    "    mon_img_arr = copy.deepcopy(arr[:,:,1])\n",
    "    return mon_img_arr\n",
    "\n",
    "M1g = Image.fromarray(monImgG(im_arr1))\n",
    "M1g.show()\n",
    "M1g.save('ps0-2-b-1.tiff')"
   ]
  },
  {
   "cell_type": "markdown",
   "metadata": {},
   "source": [
    "### PS0-2-c-code :"
   ]
  },
  {
   "cell_type": "code",
   "execution_count": 25,
   "metadata": {},
   "outputs": [],
   "source": [
    "def monImgR(arr):\n",
    "    # create an empty image\n",
    "    mon_img_arr = numpy.zeros([arr.shape[0],arr.shape[1]],dtype=numpy.uint8)\n",
    "    mon_img_arr = copy.deepcopy(arr[:,:,0])\n",
    "    return mon_img_arr\n",
    "\n",
    "M1r = Image.fromarray(monImgR(im_arr1))\n",
    "M1r.show()\n",
    "M1r.save('ps0-2-c-1.tiff')"
   ]
  },
  {
   "cell_type": "markdown",
   "metadata": {},
   "source": [
    "### PS0-2-d-question :\n",
    "The _s0-2-b-1_ image looks more like what I'd expect a monochrome image to look like because the nose of the baboon is purely red. Therefore, it appears as completely white on the ps0-2-c-1 picture, which modifies greatly the informations carried by the original picture."
   ]
  },
  {
   "cell_type": "markdown",
   "metadata": {},
   "source": [
    "### PS0-3-a-code :"
   ]
  },
  {
   "cell_type": "code",
   "execution_count": 26,
   "metadata": {},
   "outputs": [],
   "source": [
    "def innerSqr(arr1,arr2):\n",
    "    new_arr2 = copy.deepcopy(arr2)\n",
    "    new_arr1 = copy.deepcopy(arr1)\n",
    "    mid_i = new_arr2.shape[0]//2\n",
    "    mid_j = new_arr2.shape[1]//2\n",
    "    new_arr2[mid_i-49:mid_i+50,mid_j-49:mid_j+50,:] = new_arr1[mid_i-49:mid_i+50,mid_j-49:mid_j+50,:]\n",
    "    return new_arr2\n",
    "\n",
    "imSqr1 = Image.fromarray(innerSqr(im_arr1,im_arr2))\n",
    "imSqr1.show()\n",
    "imSqr1.save('ps0-3-a-1.tiff')\n",
    "\n",
    "imSqr2 = Image.fromarray(innerSqr(im_arr2,im_arr1))\n",
    "imSqr2.show()\n",
    "imSqr2.save('ps0-3-a-2.tiff')"
   ]
  },
  {
   "cell_type": "markdown",
   "metadata": {},
   "source": [
    "### PS0-4-a-code :"
   ]
  },
  {
   "cell_type": "code",
   "execution_count": 27,
   "metadata": {},
   "outputs": [
    {
     "name": "stdout",
     "output_type": "stream",
     "text": [
      "max of the pixel values of M1g is  236\n",
      "min of the pixel values of M1g is  0\n",
      "mean of the pixel values of M1g is  128.8587760925293\n",
      "standard deviation of the pixel values of M1g is  47.77058608994713\n"
     ]
    }
   ],
   "source": [
    "def maxMinGPx(arr) :\n",
    "    g_arr = monImgG(arr)\n",
    "    return (numpy.max(g_arr),numpy.min(g_arr))\n",
    "\n",
    "def muGPx(arr):\n",
    "    g_arr = monImgG(arr)\n",
    "    return numpy.mean(g_arr)\n",
    "\n",
    "def sigmaGPx(arr):\n",
    "    g_arr = monImgG(arr)\n",
    "    return numpy.std(g_arr)\n",
    "    \n",
    "    \n",
    "print('max of the pixel values of M1g is ',maxMinGPx(im_arr1)[0])\n",
    "print('min of the pixel values of M1g is ',maxMinGPx(im_arr1)[1])\n",
    "print('mean of the pixel values of M1g is ',muGPx(im_arr1))\n",
    "print('standard deviation of the pixel values of M1g is ',sigmaGPx(im_arr1))\n"
   ]
  },
  {
   "cell_type": "markdown",
   "metadata": {},
   "source": [
    "I compute these using numpy functions which might use SSE registers and parallel computing to reduce the complexity of the computation. However, if we use a simple procedural algorithms, the complexity of each computation is $O(w \\times h)$ where $w$ is the width of the image and $h$ the height of the image.\n",
    " "
   ]
  },
  {
   "cell_type": "markdown",
   "metadata": {},
   "source": [
    "### PS0-4-b-code :"
   ]
  },
  {
   "cell_type": "code",
   "execution_count": 28,
   "metadata": {},
   "outputs": [],
   "source": [
    "def arith(arr):\n",
    "    mu = muGPx(arr)\n",
    "    sigma = sigmaGPx(arr)\n",
    "    new_arr = copy.deepcopy(monImgG(arr))\n",
    "    for i in range(arr.shape[0]):\n",
    "        for j in range(arr.shape[1]):\n",
    "            new_arr[i,j] -= mu\n",
    "            new_arr[i,j] /= sigma\n",
    "            new_arr[i,j] *= 10 \n",
    "            new_arr[i,j] += mu            \n",
    "    return new_arr\n",
    "\n",
    "arith_im = Image.fromarray(arith(im_arr1))\n",
    "arith_im.show()\n",
    "arith_im.save('ps0-4-b-1.tiff')\n",
    "    "
   ]
  },
  {
   "cell_type": "markdown",
   "metadata": {},
   "source": [
    "### PS0-4-c-code :"
   ]
  },
  {
   "cell_type": "code",
   "execution_count": 29,
   "metadata": {},
   "outputs": [],
   "source": [
    "def shiftLeft(delta,arr):\n",
    "    l_shift_im = copy.deepcopy(arr)\n",
    "    for j in range(delta,l_shift_im.shape[1]):\n",
    "        l_shift_im[:,j-delta] = l_shift_im[:,j]\n",
    "    l_shift_im[:,l_shift_im.shape[1]-delta-1:l_shift_im.shape[1]-1]=numpy.zeros([arr.shape[0],delta],dtype=numpy.uint8)\n",
    "    return l_shift_im\n",
    "\n",
    "l_shift_im = Image.fromarray(shiftLeft(2,monImgG(im_arr1)))\n",
    "l_shift_im.show()\n",
    "l_shift_im.save('ps0-4-c-1.tiff')"
   ]
  },
  {
   "cell_type": "markdown",
   "metadata": {},
   "source": [
    "### PS0-4-d-code :"
   ]
  },
  {
   "cell_type": "code",
   "execution_count": 30,
   "metadata": {},
   "outputs": [],
   "source": [
    "import cv2\n",
    "def minusShift(arr):\n",
    "    new_im = copy.deepcopy(arr)\n",
    "    im_shift = shiftLeft(2,arr)\n",
    "    cv2.subtract(new_im,im_shift,new_im) # cv2.subtract performs saturation while numpy.subtract results are subject to overflow \n",
    "    return new_im\n",
    "\n",
    "minusShift_im = Image.fromarray(minusShift(monImgG(im_arr1)))\n",
    "minusShift_im.show()"
   ]
  },
  {
   "cell_type": "markdown",
   "metadata": {},
   "source": [
    "Response : Pixels intensity lies between 0 and 255 because they are stored in 8 bits unsigned integer variables. Therefore, a negative intensity value would not have any sense for an image."
   ]
  },
  {
   "cell_type": "markdown",
   "metadata": {},
   "source": [
    "### PS0-5-a-code :"
   ]
  },
  {
   "cell_type": "code",
   "execution_count": 31,
   "metadata": {},
   "outputs": [],
   "source": [
    "def addNoise(sigma,arr, channel = 'g'):\n",
    "    \n",
    "    if(channel == 'r'):\n",
    "        index = 0\n",
    "    elif(channel == 'b'):\n",
    "        index = 2\n",
    "    elif(channel == 'g'):\n",
    "        index = 1\n",
    "    else:\n",
    "        return\n",
    "    noisy_arr = copy.deepcopy(arr)\n",
    "    for i in range(noisy_arr.shape[0]):\n",
    "        for j in range(noisy_arr.shape[1]):\n",
    "            noisy_arr[i,j,index]+=numpy.random.normal(0,1)*sigma\n",
    "    return noisy_arr\n",
    "noisy_im = Image.fromarray(addNoise(1,im_arr1))\n",
    "noisy_im.show()\n",
    "\n",
    "noisy_im = Image.fromarray(addNoise(3,im_arr1))\n",
    "noisy_im.show()\n",
    "\n",
    "\n",
    "noisy_im = Image.fromarray(addNoise(10,im_arr1))\n",
    "noisy_im.show()\n",
    "noisy_im.save('ps0-5-a-1.tiff')"
   ]
  },
  {
   "cell_type": "markdown",
   "metadata": {},
   "source": [
    "Sigma is the standard deviation of the normal distribution used to generate the noise for each pixel. "
   ]
  },
  {
   "cell_type": "code",
   "execution_count": 32,
   "metadata": {},
   "outputs": [],
   "source": [
    "noisy_im_b = Image.fromarray(addNoise(10,im_arr1,'b'))\n",
    "noisy_im_b.show()\n",
    "noisy_im_b.save('ps0-5-b-1.tiff')"
   ]
  },
  {
   "cell_type": "markdown",
   "metadata": {},
   "source": [
    "The ps0-5-a image looks better.Indeed, gaussian noise seems to have less effect on the blue channel"
   ]
  }
 ],
 "metadata": {
  "kernelspec": {
   "display_name": "Python 3",
   "language": "python",
   "name": "python3"
  },
  "language_info": {
   "codemirror_mode": {
    "name": "ipython",
    "version": 3
   },
   "file_extension": ".py",
   "mimetype": "text/x-python",
   "name": "python",
   "nbconvert_exporter": "python",
   "pygments_lexer": "ipython3",
   "version": "3.6.5"
  }
 },
 "nbformat": 4,
 "nbformat_minor": 2
}
