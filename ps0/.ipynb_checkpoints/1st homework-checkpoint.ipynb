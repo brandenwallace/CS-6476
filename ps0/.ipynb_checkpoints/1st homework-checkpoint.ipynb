{
 "cells": [
  {
   "cell_type": "markdown",
   "metadata": {},
   "source": [
    "<h1><center>Problem Set 0 : Images as Functions (really arrays or matrices of numbers)</center></h1>\n",
    "<h2><center> Due to January 20 </center></h2>"
   ]
  },
  {
   "cell_type": "markdown",
   "metadata": {},
   "source": [
    "### PS0-1-code :"
   ]
  },
  {
   "cell_type": "code",
   "execution_count": 27,
   "metadata": {},
   "outputs": [],
   "source": [
    "from PIL import Image\n",
    "import numpy\n",
    "import copy\n",
    "img1 = Image.open('ps0-1-a-1.tiff')\n",
    "img2 = Image.open('ps0-1-a-2.tiff')\n",
    "\n",
    "if (img1.size[0] <= 512 & img1.size[1] <= 512):\n",
    "    img1.show()\n",
    "else:\n",
    "    print('ps0-1-a-1.tiff is too large')\n",
    "    \n",
    "if (img2.size[0] <= 512 & img2.size[1] <= 512):\n",
    "    img2.show()\n",
    "else:\n",
    "    print('ps0-1-a-2.tiff is too large')\n"
   ]
  },
  {
   "cell_type": "markdown",
   "metadata": {},
   "source": [
    "### PS0-2-a-code :"
   ]
  },
  {
   "cell_type": "code",
   "execution_count": 28,
   "metadata": {},
   "outputs": [],
   "source": [
    "# convert PIL images to arrays\n",
    "im_arr1 = numpy.array(img1)\n",
    "im_arr2 = numpy.array(img2)\n",
    "\n",
    "def invertRedBlue(arr):\n",
    "    l_r = copy.deepcopy(arr[:,:,0])\n",
    "    new_arr = copy.deepcopy(arr)\n",
    "    new_arr[:,:,0] = arr[:,:,2]\n",
    "    new_arr[:,:,2] = l_r\n",
    "    return new_arr\n",
    "\n",
    "# convert array to image and save them\n",
    "img1_br_inv = Image.fromarray(invertRedBlue(im_arr1))\n",
    "img1_br_inv.show()\n",
    "img1_br_inv.save('ps0-2-a-1.tiff')\n",
    "\n",
    "img2_br_inv = Image.fromarray(invertRedBlue(im_arr2))\n",
    "img2_br_inv.show()\n",
    "img2_br_inv.save('ps0-2-a-2.tiff')"
   ]
  },
  {
   "cell_type": "markdown",
   "metadata": {},
   "source": [
    "### PS0-2-b-code :"
   ]
  },
  {
   "cell_type": "code",
   "execution_count": 29,
   "metadata": {},
   "outputs": [],
   "source": [
    "def monImgG(arr):\n",
    "    # create an empty image\n",
    "    mon_img_arr = numpy.zeros([arr.shape[0],arr.shape[1],3],dtype=numpy.uint8)\n",
    "    mon_img_arr[:,:,1] = arr[:,:,1]\n",
    "    return mon_img_arr\n",
    "\n",
    "img1_mon_g = Image.fromarray(monImgG(im_arr1))\n",
    "img1_mon_g.show()\n",
    "img1_mon_g.save('ps0-2-b-1.tiff')\n",
    "\n",
    "img2_mon_g = Image.fromarray(monImgG(im_arr2))\n",
    "img2_mon_g.show()\n",
    "img2_mon_g.save('ps0-2-b-2.tiff')"
   ]
  },
  {
   "cell_type": "markdown",
   "metadata": {},
   "source": [
    "### PS0-2-c-code :"
   ]
  },
  {
   "cell_type": "code",
   "execution_count": 30,
   "metadata": {},
   "outputs": [],
   "source": [
    "def monImgR(arr):\n",
    "    # create an empty image\n",
    "    mon_img_arr = numpy.zeros([arr.shape[0],arr.shape[1],3],dtype=numpy.uint8)\n",
    "    mon_img_arr[:,:,0] = arr[:,:,0]\n",
    "    return mon_img_arr\n",
    "\n",
    "img1_mon_r = Image.fromarray(monImgR(im_arr1))\n",
    "img1_mon_r.show()\n",
    "img1_mon_r.save('ps0-2-c-1.tiff')\n",
    "\n",
    "img2_mon_r = Image.fromarray(monImgR(im_arr2))\n",
    "img2_mon_r.show()\n",
    "img2_mon_r.save('ps0-2-c-2.tiff')"
   ]
  },
  {
   "cell_type": "markdown",
   "metadata": {},
   "source": [
    "### PS0-2-d-question :\n",
    "The _s0-2-b-2_ image looks more like what I'd expect a monochrome image to look like because there is only black and \"shiny\" green on it, while the other images are more \"nuanced\" in terms of intensity. For the same reason I think this image would be easier for an algorithm to process because the different shapes can easily be seperated."
   ]
  },
  {
   "cell_type": "markdown",
   "metadata": {},
   "source": [
    "### PS0-3-a-code :"
   ]
  },
  {
   "cell_type": "code",
   "execution_count": 34,
   "metadata": {},
   "outputs": [],
   "source": [
    "def innerSqr(arr1,arr2):\n",
    "    new_arr2 = copy.deepcopy(arr2)\n",
    "    new_arr1 = copy.deepcopy(arr1)\n",
    "    mid_i = new_arr2.shape[0]//2\n",
    "    mid_j = new_arr2.shape[1]//2\n",
    "    new_arr2[mid_i-49:mid_i+50,mid_j-49:mid_j+50,:] = new_arr1[mid_i-49:mid_i+50,mid_j-49:mid_j+50,:]\n",
    "    return new_arr2\n",
    "\n",
    "imSqr1 = Image.fromarray(innerSqr(im_arr1,im_arr2))\n",
    "imSqr1.show()\n",
    "imSqr1.save('ps0-3-a-1.tiff')\n",
    "\n",
    "imSqr2 = Image.fromarray(innerSqr(im_arr2,im_arr1))\n",
    "imSqr2.show()\n",
    "imSqr2.save('ps0-3-a-2.tiff')"
   ]
  },
  {
   "cell_type": "markdown",
   "metadata": {},
   "source": [
    "### PS0-4-a-code :"
   ]
  },
  {
   "cell_type": "code",
   "execution_count": 48,
   "metadata": {},
   "outputs": [
    {
     "name": "stdout",
     "output_type": "stream",
     "text": [
      "255\n"
     ]
    },
    {
     "data": {
      "text/plain": [
       "255"
      ]
     },
     "execution_count": 48,
     "metadata": {},
     "output_type": "execute_result"
    }
   ],
   "source": [
    "def maxRPx(arr) :\n",
    "    r_arr = monImgR(arr)\n",
    "    max = 0\n",
    "    for i in range(r_arr.shape[0]):\n",
    "        for j in range(r_arr.shape[1]):\n",
    "            if(r_arr[i][j][0]>max):\n",
    "                max = r_arr[i][j][0]\n",
    "    print(max)\n",
    "    return max\n",
    "maxRPx(im_arr1)\n"
   ]
  },
  {
   "cell_type": "code",
   "execution_count": null,
   "metadata": {},
   "outputs": [],
   "source": []
  }
 ],
 "metadata": {
  "kernelspec": {
   "display_name": "Python 3",
   "language": "python",
   "name": "python3"
  },
  "language_info": {
   "codemirror_mode": {
    "name": "ipython",
    "version": 3
   },
   "file_extension": ".py",
   "mimetype": "text/x-python",
   "name": "python",
   "nbconvert_exporter": "python",
   "pygments_lexer": "ipython3",
   "version": "3.6.5"
  }
 },
 "nbformat": 4,
 "nbformat_minor": 2
}
