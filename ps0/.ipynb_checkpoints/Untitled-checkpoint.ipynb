{
 "cells": [
  {
   "cell_type": "code",
   "execution_count": null,
   "metadata": {},
   "outputs": [],
   "source": [
    "import cv2\n",
    "import numpy as np\n",
    "from matplotlib import pyplot as plt\n",
    "def nothing(x):\n",
    "    pass\n",
    "cv2.namedWindow('image')\n",
    "\n",
    "img = cv2.imread('ps1-input0.png')\n",
    "cv2.createTrackbar('low_threshold','image',0,255,nothing)\n",
    "cv2.createTrackbar('high_threshold','image',0,255,nothing)\n",
    "\n",
    "while(1):\n",
    "    low_thresh = cv2.getTrackbarPos('low_threshold','image')\n",
    "    high_thresh = cv2.getTrackbarPos('high_threshold','image')\n",
    "\n",
    "    edges = cv2.Canny(img,low_thresh,high_thresh,apertureSize=5,L2gradient=False)\n",
    "    cv2.imshow('image',img)\n",
    "    k = cv2.waitKey(1) & 0xFF\n",
    "    if k == 27:\n",
    "        break\n",
    "    \n",
    "cv2.destroyAllWindows()\n",
    "#     plt.subplot(121),plt.imshow(img,cmap = 'gray')\n",
    "#     plt.title('Original Image'), plt.xticks([]), plt.yticks([])\n",
    "#     plt.subplot(122),plt.imshow(edges,cmap = 'gray')\n",
    "#     plt.title('Edge Image'), plt.xticks([]), plt.yticks([])\n",
    "#     plt.show()\n",
    "        \n"
   ]
  },
  {
   "cell_type": "code",
   "execution_count": null,
   "metadata": {},
   "outputs": [],
   "source": []
  }
 ],
 "metadata": {
  "kernelspec": {
   "display_name": "Python 3",
   "language": "python",
   "name": "python3"
  },
  "language_info": {
   "codemirror_mode": {
    "name": "ipython",
    "version": 3
   },
   "file_extension": ".py",
   "mimetype": "text/x-python",
   "name": "python",
   "nbconvert_exporter": "python",
   "pygments_lexer": "ipython3",
   "version": "3.6.5"
  }
 },
 "nbformat": 4,
 "nbformat_minor": 2
}
